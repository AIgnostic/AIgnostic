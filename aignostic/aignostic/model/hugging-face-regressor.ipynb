{
 "cells": [
  {
   "cell_type": "code",
   "execution_count": 2,
   "metadata": {},
   "outputs": [
    {
     "ename": "ModuleNotFoundError",
     "evalue": "No module named 'autogluon'",
     "output_type": "error",
     "traceback": [
      "\u001b[0;31m---------------------------------------------------------------------------\u001b[0m",
      "\u001b[0;31mModuleNotFoundError\u001b[0m                       Traceback (most recent call last)",
      "Cell \u001b[0;32mIn[2], line 3\u001b[0m\n\u001b[1;32m      1\u001b[0m \u001b[38;5;28;01mimport\u001b[39;00m \u001b[38;5;21;01mnumpy\u001b[39;00m \u001b[38;5;28;01mas\u001b[39;00m \u001b[38;5;21;01mnp\u001b[39;00m\n\u001b[0;32m----> 3\u001b[0m \u001b[38;5;28;01mfrom\u001b[39;00m \u001b[38;5;21;01mautogluon\u001b[39;00m\u001b[38;5;21;01m.\u001b[39;00m\u001b[38;5;21;01mtabular\u001b[39;00m \u001b[38;5;28;01mimport\u001b[39;00m TabularPredictor\n",
      "\u001b[0;31mModuleNotFoundError\u001b[0m: No module named 'autogluon'"
     ]
    }
   ],
   "source": [
    "import numpy as np\n",
    "from folktables import ACSIncome\n",
    "from autogluon.tabular import TabularPredictor\n"
   ]
  },
  {
   "cell_type": "code",
   "execution_count": 1,
   "metadata": {},
   "outputs": [
    {
     "name": "stdout",
     "output_type": "stream",
     "text": [
      "python not found\n"
     ]
    }
   ],
   "source": []
  },
  {
   "cell_type": "code",
   "execution_count": null,
   "metadata": {},
   "outputs": [],
   "source": [
    "\n",
    "\n",
    "\n",
    "if __name__ == '__main__':  \n",
    "    train_data = pd.read_csv('https://autogluon.s3.amazonaws.com/datasets/Inc/train.csv')\n",
    "    subsample_size = 5000\n",
    "    if subsample_size is not None and subsample_size < len(train_data):\n",
    "        train_data = train_data.sample(n=subsample_size, random_state=0)\n",
    "    test_data = pd.read_csv('https://autogluon.s3.amazonaws.com/datasets/Inc/test.csv')\n",
    "\n",
    "    tabpfnmix_default = {\n",
    "        \"model_path_classifier\": \"autogluon/tabpfn-mix-1.0-classifier\",\n",
    "        \"model_path_regressor\": \"autogluon/tabpfn-mix-1.0-regressor\",\n",
    "        \"n_ensembles\": 1,\n",
    "        \"max_epochs\": 30,\n",
    "    }\n",
    "\n",
    "    hyperparameters = {\n",
    "        \"TABPFNMIX\": [\n",
    "            tabpfnmix_default,\n",
    "        ],\n",
    "    }\n",
    "\n",
    "    label = \"age\"\n",
    "    problem_type = \"regression\"\n",
    "\n",
    "    predictor = TabularPredictor(\n",
    "        label=label,\n",
    "        problem_type=problem_type,\n",
    "    )\n",
    "    predictor = predictor.fit(\n",
    "        train_data=train_data,\n",
    "        hyperparameters=hyperparameters,\n",
    "        verbosity=3,\n",
    "    )\n",
    "\n",
    "    predictor.leaderboard(test_data, display=True)\n"
   ]
  }
 ],
 "metadata": {
  "kernelspec": {
   "display_name": "Python 3",
   "language": "python",
   "name": "python3"
  },
  "language_info": {
   "codemirror_mode": {
    "name": "ipython",
    "version": 3
   },
   "file_extension": ".py",
   "mimetype": "text/x-python",
   "name": "python",
   "nbconvert_exporter": "python",
   "pygments_lexer": "ipython3",
   "version": "3.10.12"
  }
 },
 "nbformat": 4,
 "nbformat_minor": 2
}
